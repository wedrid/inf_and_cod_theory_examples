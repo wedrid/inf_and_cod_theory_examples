{
 "cells": [
  {
   "cell_type": "code",
   "execution_count": 3,
   "metadata": {},
   "outputs": [],
   "source": [
    "import pandas as pd"
   ]
  },
  {
   "cell_type": "code",
   "execution_count": 4,
   "metadata": {},
   "outputs": [],
   "source": [
    "source_message = \"C'era una volta una bambina che indossava sempre una mantellina con il cappuccio di colore rosso che le aveva fatto la sua nonna, così tutti i vicini la chiamavano Cappuccetto Rosso. Un giorno la mamma le disse di portare un cestino con una focaccia e una bottiglia di vino alla nonna che abitava al di là del bosco e le raccomando più volte di stare attenta lungo la strada e di comportarsi bene dalla nonna. Cappuccetto Rosso uscì di casa con il cestino in mano e si inoltrò nel bosco. Dopo una mezzoretta di cammino, Cappuccetto Rosso incontrò un lupo, ma non sapeva che fosse una bestia tanto cattiva e non ebbe paura. Il lupo le chiese dove stava andando, la piccola rispose che andava dalla nonna e gli spiegò dove abitava. Su invito del lupo, la bimba si soffermò poi a accogliere dei fiorellini, mentre il lupo andò di corsa a casa della nonna. Facendo la vocina come se fosse la nipotina, si fece dire come aprire, entrò e in un sol boccone la mangiò. Poi indossò la sua camicia da notte, la cuffietta  e si infilò sotto le coperte ad aspettare Cappuccetto Rosso. Quando questa arrivò, guardò con meraviglia la sua nonnina, che le sembrava avere le mani grandi, le orecchie grandi e anche la bocca, e fu con la bocca che il lupo facendo un balzo la inghiottì. Fatto il suo buon pasto il lupo doveva tornare nel bosco, ma era talmente pieno che decise di fermarsi a fare un pisolino. Nel frattempo proprio vicino alla casetta passava un cacciatore che fu attirato dal forte russare del lupo e decise di entrare. Appena lo vide dormire sul letto, con il pancione e la bocca aperta, s'immaginò tutto. Subito prese delle forbici e iniziò a tagliare la pancia del lupo, prima uscì Cappuccetto Rosso e dopo la nonna. Cappuccetto decise di farla pagare al lupo, così prese delle grosse pietre che il cacciatore infilò dentro la pancia del lupo e la ricucì. Quando egli si svegliò fece per correr via, ma le pietre erano cosi pesanti che subito s'accasciò e cadde morto. Erano contenti tutti e tre: il cacciatore scuoiò il lupo e si portò via la pelle; la nonna mangiò la focaccia e bevve il vino che aveva portato Cappuccetto Rosso, e si rianimò; ma Cappuccetto Rosso pensava che non avrebbe più disobbedito alla mamma.\"\n",
    "source_message = source_message.lower()"
   ]
  },
  {
   "cell_type": "code",
   "execution_count": 5,
   "metadata": {},
   "outputs": [],
   "source": [
    "def get_source_alphabet(source):\n",
    "    # input: source message \n",
    "    # output, symbols and probabilities\n",
    "    alphabet = [] #for now, a list (dynamic) is the best way (i believe)\n",
    "    occurances = []\n",
    "    for i, character in enumerate(source):\n",
    "        if character in alphabet: \n",
    "            ix = alphabet.index(character)\n",
    "            occurances[ix] += 1\n",
    "        else:\n",
    "            alphabet.append(character)\n",
    "            occurances.append(0)\n",
    "    num_symb = len(source)\n",
    "    out = [(sym, count/num_symb) for sym, count in zip(alphabet, occurances)]\n",
    "    return pd.DataFrame(out)"
   ]
  },
  {
   "cell_type": "code",
   "execution_count": 6,
   "metadata": {},
   "outputs": [],
   "source": [
    "alphabet = get_source_alphabet(source_message).rename(columns={0: \"symb\", 1: \"prob\"})"
   ]
  },
  {
   "cell_type": "code",
   "execution_count": 7,
   "metadata": {},
   "outputs": [
    {
     "data": {
      "text/plain": [
       "<AxesSubplot:xlabel='symb'>"
      ]
     },
     "execution_count": 7,
     "metadata": {},
     "output_type": "execute_result"
    },
    {
     "data": {
      "image/png": "[encoded data removed]",
      "text/plain": [
       "<Figure size 432x288 with 1 Axes>"
      ]
     },
     "metadata": {
      "needs_background": "light"
     },
     "output_type": "display_data"
    }
   ],
   "source": [
    "alphabet.plot.bar(x='symb')"
   ]
  },
  {
   "cell_type": "markdown",
   "metadata": {},
   "source": [
    "We have the dictionary with the probabilities calculated in a frequentist fashion.\n",
    "# Huffman code"
   ]
  },
  {
   "cell_type": "code",
   "execution_count": 8,
   "metadata": {},
   "outputs": [],
   "source": [
    "import copy\n",
    "\n",
    "h_alphabet = copy.copy(alphabet)\n",
    "# 1) order alphabet by probabilities\n",
    "h_alphabet = h_alphabet.sort_values(by=\"prob\", ascending=False)"
   ]
  },
  {
   "cell_type": "code",
   "execution_count": 9,
   "metadata": {},
   "outputs": [
    {
     "data": {
      "text/html": [
       "<div>\n",
       "<style scoped>\n",
       "    .dataframe tbody tr th:only-of-type {\n",
       "        vertical-align: middle;\n",
       "    }\n",
       "\n",
       "    .dataframe tbody tr th {\n",
       "        vertical-align: top;\n",
       "    }\n",
       "\n",
       "    .dataframe thead th {\n",
       "        text-align: right;\n",
       "    }\n",
       "</style>\n",
       "<table border=\"1\" class=\"dataframe\">\n",
       "  <thead>\n",
       "    <tr style=\"text-align: right;\">\n",
       "      <th></th>\n",
       "      <th>symb</th>\n",
       "      <th>prob</th>\n",
       "    </tr>\n",
       "  </thead>\n",
       "  <tbody>\n",
       "    <tr>\n",
       "      <th>0</th>\n",
       "      <td>c</td>\n",
       "      <td>0.057632</td>\n",
       "    </tr>\n",
       "    <tr>\n",
       "      <th>1</th>\n",
       "      <td>'</td>\n",
       "      <td>0.000900</td>\n",
       "    </tr>\n",
       "    <tr>\n",
       "      <th>2</th>\n",
       "      <td>e</td>\n",
       "      <td>0.083296</td>\n",
       "    </tr>\n",
       "    <tr>\n",
       "      <th>3</th>\n",
       "      <td>r</td>\n",
       "      <td>0.039622</td>\n",
       "    </tr>\n",
       "    <tr>\n",
       "      <th>4</th>\n",
       "      <td>a</td>\n",
       "      <td>0.100855</td>\n",
       "    </tr>\n",
       "    <tr>\n",
       "      <th>5</th>\n",
       "      <td></td>\n",
       "      <td>0.178748</td>\n",
       "    </tr>\n",
       "    <tr>\n",
       "      <th>6</th>\n",
       "      <td>u</td>\n",
       "      <td>0.026565</td>\n",
       "    </tr>\n",
       "    <tr>\n",
       "      <th>7</th>\n",
       "      <td>n</td>\n",
       "      <td>0.056281</td>\n",
       "    </tr>\n",
       "    <tr>\n",
       "      <th>8</th>\n",
       "      <td>v</td>\n",
       "      <td>0.016209</td>\n",
       "    </tr>\n",
       "    <tr>\n",
       "      <th>9</th>\n",
       "      <td>o</td>\n",
       "      <td>0.076092</td>\n",
       "    </tr>\n",
       "    <tr>\n",
       "      <th>10</th>\n",
       "      <td>l</td>\n",
       "      <td>0.049977</td>\n",
       "    </tr>\n",
       "    <tr>\n",
       "      <th>11</th>\n",
       "      <td>t</td>\n",
       "      <td>0.046826</td>\n",
       "    </tr>\n",
       "    <tr>\n",
       "      <th>12</th>\n",
       "      <td>b</td>\n",
       "      <td>0.012607</td>\n",
       "    </tr>\n",
       "    <tr>\n",
       "      <th>13</th>\n",
       "      <td>m</td>\n",
       "      <td>0.017560</td>\n",
       "    </tr>\n",
       "    <tr>\n",
       "      <th>14</th>\n",
       "      <td>i</td>\n",
       "      <td>0.067087</td>\n",
       "    </tr>\n",
       "    <tr>\n",
       "      <th>15</th>\n",
       "      <td>h</td>\n",
       "      <td>0.007654</td>\n",
       "    </tr>\n",
       "    <tr>\n",
       "      <th>16</th>\n",
       "      <td>d</td>\n",
       "      <td>0.025664</td>\n",
       "    </tr>\n",
       "    <tr>\n",
       "      <th>17</th>\n",
       "      <td>s</td>\n",
       "      <td>0.042323</td>\n",
       "    </tr>\n",
       "    <tr>\n",
       "      <th>18</th>\n",
       "      <td>p</td>\n",
       "      <td>0.031968</td>\n",
       "    </tr>\n",
       "    <tr>\n",
       "      <th>19</th>\n",
       "      <td>f</td>\n",
       "      <td>0.010806</td>\n",
       "    </tr>\n",
       "    <tr>\n",
       "      <th>20</th>\n",
       "      <td>,</td>\n",
       "      <td>0.008555</td>\n",
       "    </tr>\n",
       "    <tr>\n",
       "      <th>21</th>\n",
       "      <td>ì</td>\n",
       "      <td>0.002251</td>\n",
       "    </tr>\n",
       "    <tr>\n",
       "      <th>22</th>\n",
       "      <td>.</td>\n",
       "      <td>0.006754</td>\n",
       "    </tr>\n",
       "    <tr>\n",
       "      <th>23</th>\n",
       "      <td>g</td>\n",
       "      <td>0.008104</td>\n",
       "    </tr>\n",
       "    <tr>\n",
       "      <th>24</th>\n",
       "      <td>à</td>\n",
       "      <td>0.000000</td>\n",
       "    </tr>\n",
       "    <tr>\n",
       "      <th>25</th>\n",
       "      <td>ù</td>\n",
       "      <td>0.000450</td>\n",
       "    </tr>\n",
       "    <tr>\n",
       "      <th>26</th>\n",
       "      <td>ò</td>\n",
       "      <td>0.008555</td>\n",
       "    </tr>\n",
       "    <tr>\n",
       "      <th>27</th>\n",
       "      <td>z</td>\n",
       "      <td>0.001351</td>\n",
       "    </tr>\n",
       "    <tr>\n",
       "      <th>28</th>\n",
       "      <td>q</td>\n",
       "      <td>0.000900</td>\n",
       "    </tr>\n",
       "    <tr>\n",
       "      <th>29</th>\n",
       "      <td>:</td>\n",
       "      <td>0.000000</td>\n",
       "    </tr>\n",
       "    <tr>\n",
       "      <th>30</th>\n",
       "      <td>;</td>\n",
       "      <td>0.000450</td>\n",
       "    </tr>\n",
       "  </tbody>\n",
       "</table>\n",
       "</div>"
      ],
      "text/plain": [
       "   symb      prob\n",
       "0     c  0.057632\n",
       "1     '  0.000900\n",
       "2     e  0.083296\n",
       "3     r  0.039622\n",
       "4     a  0.100855\n",
       "5        0.178748\n",
       "6     u  0.026565\n",
       "7     n  0.056281\n",
       "8     v  0.016209\n",
       "9     o  0.076092\n",
       "10    l  0.049977\n",
       "11    t  0.046826\n",
       "12    b  0.012607\n",
       "13    m  0.017560\n",
       "14    i  0.067087\n",
       "15    h  0.007654\n",
       "16    d  0.025664\n",
       "17    s  0.042323\n",
       "18    p  0.031968\n",
       "19    f  0.010806\n",
       "20    ,  0.008555\n",
       "21    ì  0.002251\n",
       "22    .  0.006754\n",
       "23    g  0.008104\n",
       "24    à  0.000000\n",
       "25    ù  0.000450\n",
       "26    ò  0.008555\n",
       "27    z  0.001351\n",
       "28    q  0.000900\n",
       "29    :  0.000000\n",
       "30    ;  0.000450"
      ]
     },
     "execution_count": 9,
     "metadata": {},
     "output_type": "execute_result"
    }
   ],
   "source": [
    "alphabet"
   ]
  },
  {
   "cell_type": "code",
   "execution_count": 10,
   "metadata": {},
   "outputs": [],
   "source": [
    "h_symb_list = h_alphabet['symb'].to_list()\n",
    "h_probs_list = h_alphabet['prob'].to_list()"
   ]
  },
  {
   "cell_type": "code",
   "execution_count": 12,
   "metadata": {},
   "outputs": [
    {
     "name": "stdout",
     "output_type": "stream",
     "text": [
      "a\n",
      "b\n",
      "  -> p: 0.17874831157136425\n",
      "e -> p: 0.08329581269698334\n",
      "o -> p: 0.07609185051778478\n",
      "i -> p: 0.06708689779378658\n",
      "c -> p: 0.05763169743358847\n",
      "n -> p: 0.05628095452498874\n",
      "l -> p: 0.04997748761819001\n",
      "t -> p: 0.04682575416479064\n",
      "s -> p: 0.042323277802791534\n",
      "r -> p: 0.03962179198559208\n",
      "p -> p: 0.031967582170193604\n",
      "u -> p: 0.02656461053579469\n",
      "d -> p: 0.025664115263394866\n",
      "m -> p: 0.017559657811796487\n",
      "v -> p: 0.01620891490319676\n",
      "f -> p: 0.010805943268797838\n",
      "ò -> p: 0.008554705087798289\n",
      ", -> p: 0.008554705087798289\n",
      "g -> p: 0.00810445745159838\n",
      "h -> p: 0.00765420981539847\n",
      ". -> p: 0.00675371454299865\n",
      "ì -> p: 0.0022512381809995496\n",
      "z -> p: 0.0013507429085997298\n",
      "' -> p: 0.0009004952723998199\n",
      "q -> p: 0.0009004952723998199\n",
      "ù -> p: 0.00045024763619990995\n",
      "; -> p: 0.00045024763619990995\n",
      "à -> p: 0.0\n",
      ": -> p: 0.0\n",
      "|a|b| -> p: 0.11346240432237731\n"
     ]
    }
   ],
   "source": [
    "# h1) create one node (leaf) for each symbol\n",
    "# h2) get the two nodes with least probability, create a parent for them, with new prob. \n",
    "from tree import *\n",
    "\n",
    "r_tree = Tree(h_symb_list, h_probs_list)\n",
    "\n",
    "r_tree.createParentFromSiblings(['a','b'])\n",
    "r_tree.print_all_nodes()\n",
    "\n"
   ]
  }
 ],
 "metadata": {
  "interpreter": {
   "hash": "aee8b7b246df8f9039afb4144a1f6fd8d2ca17a180786b69acc140d282b71a49"
  },
  "kernelspec": {
   "display_name": "Python 3.8.10 64-bit",
   "language": "python",
   "name": "python3"
  },
  "language_info": {
   "codemirror_mode": {
    "name": "ipython",
    "version": 3
   },
   "file_extension": ".py",
   "mimetype": "text/x-python",
   "name": "python",
   "nbconvert_exporter": "python",
   "pygments_lexer": "ipython3",
   "version": "3.8.10"
  },
  "orig_nbformat": 4
 },
 "nbformat": 4,
 "nbformat_minor": 2
}
